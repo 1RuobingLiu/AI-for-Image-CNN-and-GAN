{
 "cells": [
  {
   "cell_type": "markdown",
   "metadata": {},
   "source": [
    "# DCM on SUPPORT Dataset\n",
    "\n",
    "The SUPPORT dataset comes from the Vanderbilt University study to estimate survival for seriously ill hospitalized adults. (Refer to http://biostat.mc.vanderbilt.edu/wiki/Main/SupportDesc. for the original datasource.)\n",
    "\n",
    "In this notebook, we will apply Deep Cox Mixtures for survival prediction on the SUPPORT data.\n",
    "\n"
   ]
  },
  {
   "cell_type": "code",
   "execution_count": 1,
   "metadata": {},
   "outputs": [],
   "source": [
    "from dcm import dcm_tf as dcm"
   ]
  },
  {
   "cell_type": "code",
   "execution_count": 7,
   "metadata": {},
   "outputs": [
    {
     "name": "stdout",
     "output_type": "stream",
     "text": [
      "Collecting dsm\n",
      "  Downloading dsm-0.5.3-py3-none-any.whl (8.3 kB)\n",
      "Requirement already satisfied: six in f:\\anaconda3\\lib\\site-packages (from dsm) (1.15.0)\n",
      "Collecting observable\n",
      "  Downloading observable-1.0.3-py2.py3-none-any.whl (8.1 kB)\n",
      "Installing collected packages: observable, dsm\n",
      "Successfully installed dsm-0.5.3 observable-1.0.3\n",
      "Note: you may need to restart the kernel to use updated packages.\n"
     ]
    }
   ],
   "source": [
    "pip install dsm\n"
   ]
  },
  {
   "cell_type": "markdown",
   "metadata": {},
   "source": [
    "### Load the SUPPORT Dataset\n",
    "\n",
    "The package includes helper functions to load the dataset.\n",
    "\n",
    "X represents an np.array of features (covariates), T is the event/censoring times and, E is the censoring indicator. \n",
    "\n"
   ]
  },
  {
   "cell_type": "code",
   "execution_count": 2,
   "metadata": {},
   "outputs": [
    {
     "name": "stdout",
     "output_type": "stream",
     "text": [
      "[ 84.21971253  96.91786448 114.35523615]\n"
     ]
    }
   ],
   "source": [
    "dataset = 'FLCHAIN'\n",
    "cv_folds = 5\n",
    "prot_att = 'mgus'\n",
    "fair_strategy = None\n",
    "quantiles = [0.25, 0.5, 0.75]\n",
    "\n",
    "from dcm.deep_cox_mixture import load_dataset\n",
    "(x, t, e, a), folds, times = load_dataset(dataset, cv_folds, prot_att, fair_strategy, quantiles)\n",
    "\n",
    "x = x.astype('float32')\n",
    "t = t.astype('float32')"
   ]
  },
  {
   "cell_type": "code",
   "execution_count": 6,
   "metadata": {},
   "outputs": [
    {
     "data": {
      "text/plain": [
       "639"
      ]
     },
     "execution_count": 6,
     "metadata": {},
     "output_type": "execute_result"
    }
   ],
   "source": [
    "len(x)"
   ]
  },
  {
   "cell_type": "markdown",
   "metadata": {},
   "source": [
    "### Splitting the data into train, test and validation sets\n",
    "We will train DSM on 70% of the Data, use a Validation set of 10% for Model Selection and report performance on the remaining 20% held out test set.\n",
    "\n"
   ]
  },
  {
   "cell_type": "code",
   "execution_count": 7,
   "metadata": {},
   "outputs": [],
   "source": [
    "n = len(x)\n",
    "\n",
    "tr_size = int(n*0.70)\n",
    "vl_size = int(n*0.10)\n",
    "te_size = int(n*0.20)\n",
    "\n",
    "x_train, x_test, x_val = x[:tr_size], x[-te_size:], x[tr_size:tr_size+vl_size]\n",
    "t_train, t_test, t_val = t[:tr_size], t[-te_size:], t[tr_size:tr_size+vl_size]\n",
    "e_train, e_test, e_val = e[:tr_size], e[-te_size:], e[tr_size:tr_size+vl_size]\n"
   ]
  },
  {
   "cell_type": "markdown",
   "metadata": {},
   "source": [
    "# Setting up DCM\n",
    "\n",
    "In the subsequent cell, we will instantiate a class of the `Deep Cox Mixture` model with `k` latent groups and a hidden representation of size of `100`."
   ]
  },
  {
   "cell_type": "code",
   "execution_count": 62,
   "metadata": {},
   "outputs": [
    {
     "name": "stderr",
     "output_type": "stream",
     "text": [
      "  0%|                                                                                           | 0/50 [00:00<?, ?it/s]F:\\Anaconda3\\lib\\site-packages\\dcm\\dcm_tf.py:199: RuntimeWarning: invalid value encountered in power\n",
      "  return spl(ts)**risks\n",
      "F:\\Anaconda3\\lib\\site-packages\\dcm\\dcm_tf.py:194: RuntimeWarning: invalid value encountered in power\n",
      "  s0ts = (-risks)*(spl(ts)**(risks-1))\n",
      "  8%|██████▋                                                                            | 4/50 [00:00<00:08,  5.56it/s]WARNING:root:Couldn't fit splines, reusing from previous epoch\n",
      "WARNING:root:Couldn't fit splines, reusing from previous epoch\n",
      "WARNING:root:Couldn't fit splines, reusing from previous epoch\n",
      " 10%|████████▎                                                                          | 5/50 [00:00<00:07,  5.66it/s]WARNING:root:Couldn't fit splines, reusing from previous epoch\n",
      "WARNING:root:Couldn't fit splines, reusing from previous epoch\n",
      "WARNING:root:Couldn't fit splines, reusing from previous epoch\n",
      "WARNING:root:Couldn't fit splines, reusing from previous epoch\n",
      " 12%|█████████▉                                                                         | 6/50 [00:01<00:07,  5.76it/s]WARNING:root:Couldn't fit splines, reusing from previous epoch\n",
      " 16%|█████████████▎                                                                     | 8/50 [00:01<00:08,  5.04it/s]\n"
     ]
    }
   ],
   "source": [
    "k = 5\n",
    "h = 100\n",
    "\n",
    "model = dcm.DeepCoxMixture(k, h)\n",
    "\n",
    "# We `train` the model for 50 epochs, \n",
    "# with a learning rate of 1e-3,\n",
    "# a batch size of 128 using the Adam optimizer.\n",
    "model, losses = dcm.train(model, \n",
    "                  x_train, t_train, e_train, \n",
    "                  x_val, t_val, e_val, \n",
    "                  epochs=50, lr=1e-3, bs=128, \n",
    "                  use_posteriors=False,\n",
    "                  random_state=0,\n",
    "                  return_losses=True,\n",
    "                  patience=3)            "
   ]
  },
  {
   "cell_type": "markdown",
   "metadata": {},
   "source": [
    "### Inference\n",
    "\n",
    "We will infer the survival probability at the quantiles and compute the\n",
    "metrics of interest."
   ]
  },
  {
   "cell_type": "code",
   "execution_count": 63,
   "metadata": {},
   "outputs": [],
   "source": [
    "scores = []\n",
    "\n",
    "for time in times:\n",
    "    score = dcm.predict_scores(model, x_test, time)\n",
    "    scores.append(score)"
   ]
  },
  {
   "cell_type": "markdown",
   "metadata": {},
   "source": [
    "### Evaluation\n",
    "We evaluate the performance of DCM in its discriminative ability (Time Dependent Concordance Index and Cumulative Dynamic AUC) as well as Brier Score.\n",
    "\n"
   ]
  },
  {
   "cell_type": "code",
   "execution_count": 64,
   "metadata": {},
   "outputs": [],
   "source": [
    "from sksurv.metrics import concordance_index_ipcw, brier_score, cumulative_dynamic_auc\n",
    "import numpy as np"
   ]
  },
  {
   "cell_type": "code",
   "execution_count": 65,
   "metadata": {},
   "outputs": [
    {
     "name": "stdout",
     "output_type": "stream",
     "text": [
      "For 0.25 quantile,\n",
      "TD Concordance Index: 0.5439853460518465\n",
      "Brier Score: 0.1008733583081801\n",
      "ROC AUC  0.5612613588920944 \n",
      "\n",
      "For 0.5 quantile,\n",
      "TD Concordance Index: 0.5616675245170437\n",
      "Brier Score: 4.608585291876491e+16\n",
      "ROC AUC  0.5833130011816778 \n",
      "\n",
      "For 0.75 quantile,\n",
      "TD Concordance Index: 0.4824035649981594\n",
      "Brier Score: 38.11497447820517\n",
      "ROC AUC  0.46698632097194304 \n",
      "\n"
     ]
    }
   ],
   "source": [
    "cis = []\n",
    "brs = []\n",
    "\n",
    "et_train = np.array([(e_train[i], t_train[i]) for i in range(len(e_train))],\n",
    "                 dtype = [('e', bool), ('t', float)])\n",
    "et_test = np.array([(e_test[i], t_test[i]) for i in range(len(e_test))],\n",
    "                 dtype = [('e', bool), ('t', float)])\n",
    "et_val = np.array([(e_val[i], t_val[i]) for i in range(len(e_val))],\n",
    "                 dtype = [('e', bool), ('t', float)])\n",
    "\n",
    "for i, _ in enumerate(times):\n",
    "    cis.append(concordance_index_ipcw(et_train, et_test, 1-scores[i], times[i])[0])\n",
    "    \n",
    "\n",
    "for i, _ in enumerate(times):\n",
    "    brs.append(float(brier_score(et_train, et_test, scores[i], times[i])[1]))\n",
    "    \n",
    "roc_auc = []\n",
    "for i, _ in enumerate(times):\n",
    "    roc_auc.append(cumulative_dynamic_auc(et_train, et_test, 1-scores[i], times[i])[0])\n",
    "for quantile in enumerate(quantiles):\n",
    "    print(f\"For {quantile[1]} quantile,\")\n",
    "    print(\"TD Concordance Index:\", cis[quantile[0]])\n",
    "    print(\"Brier Score:\", brs[quantile[0]])\n",
    "    print(\"ROC AUC \", roc_auc[quantile[0]][0], \"\\n\")"
   ]
  },
  {
   "cell_type": "markdown",
   "metadata": {},
   "source": [
    "# Plotting Baseline Splines\n",
    "\n",
    "Here we plot the estimated baseline survival rates for the latent groups."
   ]
  },
  {
   "cell_type": "code",
   "execution_count": 66,
   "metadata": {},
   "outputs": [
    {
     "data": {
      "image/png": "[encoded data removed]",
      "text/plain": [
       "<Figure size 432x288 with 1 Axes>"
      ]
     },
     "metadata": {
      "needs_background": "light"
     },
     "output_type": "display_data"
    }
   ],
   "source": [
    "from matplotlib import pyplot as plt\n",
    "import numpy as np\n",
    "\n",
    "ts = np.unique(t)\n",
    "\n",
    "splines = model[1]\n",
    "\n",
    "for spline in splines:\n",
    "     plt.plot(splines[spline](ts))\n",
    "plt.show()"
   ]
  },
  {
   "cell_type": "code",
   "execution_count": 26,
   "metadata": {},
   "outputs": [
    {
     "data": {
      "text/plain": [
       "{0: <scipy.interpolate.fitpack2.UnivariateSpline at 0x1bab3314dc0>,\n",
       " 1: <scipy.interpolate.fitpack2.UnivariateSpline at 0x1baaaa1b910>,\n",
       " 2: <scipy.interpolate.fitpack2.UnivariateSpline at 0x1baaaa49670>}"
      ]
     },
     "execution_count": 26,
     "metadata": {},
     "output_type": "execute_result"
    }
   ],
   "source": [
    "model[1]"
   ]
  },
  {
   "cell_type": "code",
   "execution_count": null,
   "metadata": {},
   "outputs": [],
   "source": []
  }
 ],
 "metadata": {
  "kernelspec": {
   "display_name": "Python 3",
   "language": "python",
   "name": "python3"
  },
  "language_info": {
   "codemirror_mode": {
    "name": "ipython",
    "version": 3
   },
   "file_extension": ".py",
   "mimetype": "text/x-python",
   "name": "python",
   "nbconvert_exporter": "python",
   "pygments_lexer": "ipython3",
   "version": "3.8.5"
  }
 },
 "nbformat": 4,
 "nbformat_minor": 4
}
